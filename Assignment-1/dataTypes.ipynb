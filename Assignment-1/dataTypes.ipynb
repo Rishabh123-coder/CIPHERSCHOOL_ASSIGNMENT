{
 "cells": [
  {
   "cell_type": "code",
   "execution_count": 3,
   "metadata": {},
   "outputs": [
    {
     "name": "stdout",
     "output_type": "stream",
     "text": [
      "Enter the no of elements :4\n",
      "Enter the element :2\n",
      "Enter the element :3\n",
      "Enter the element :2\n",
      "Enter the element :3\n",
      "original list is [2, 3, 2, 3]\n",
      "[2, 3]\n"
     ]
    }
   ],
   "source": [
    "# Q-1\n",
    "l=list()\n",
    "n=int(input(\"Enter the no of elements :\"))\n",
    "for i in range(n):\n",
    "    ele=int(input(\"Enter the element :\"))\n",
    "    l.append(ele)\n",
    "print(\"original list is\",l)\n",
    "s=set(l)\n",
    "l=list(s)\n",
    "print(l)"
   ]
  },
  {
   "cell_type": "code",
   "execution_count": 9,
   "metadata": {},
   "outputs": [
    {
     "name": "stdout",
     "output_type": "stream",
     "text": [
      "Enter the no of elements : 5\n",
      "1\n",
      "2\n",
      "3\n",
      "4\n",
      "5\n",
      "Length of tuple is  5\n",
      "sum of elements of tuple  15\n",
      "Maximum element is 5\n",
      "Minimum element is 1\n"
     ]
    }
   ],
   "source": [
    "# Q-2\n",
    "l=[]\n",
    "n=int(input(\"Enter the no of elements : \"))\n",
    "for i in range(n):\n",
    "    ele=int(input())\n",
    "    l.append(ele)\n",
    "tup=tuple(l)\n",
    "# length of tuple\n",
    "l1=len(tup)\n",
    "print(\"Length of tuple is \",l1)\n",
    "\n",
    "# sum of all elements\n",
    "print(\"sum of elements of tuple \",sum(list(tup)))\n",
    "\n",
    "# maximum and minimum element\n",
    "print(\"Maximum element is\",max(tup))\n",
    "print(\"Minimum element is\",min(tup))"
   ]
  },
  {
   "cell_type": "code",
   "execution_count": 11,
   "metadata": {},
   "outputs": [
    {
     "name": "stdout",
     "output_type": "stream",
     "text": [
      "Enter the no :13\n",
      "Enter the ith bit :2\n",
      "13\n"
     ]
    }
   ],
   "source": [
    "# Q-3\n",
    "n=int(input(\"Enter the no :\"))\n",
    "i=int(input(\"Enter the ith bit :\"))\n",
    "l=((1<<i) | n)\n",
    "print(l)"
   ]
  },
  {
   "cell_type": "code",
   "execution_count": 2,
   "metadata": {},
   "outputs": [
    {
     "name": "stdout",
     "output_type": "stream",
     "text": [
      "Enter the number :12\n",
      "0\n"
     ]
    }
   ],
   "source": [
    "# Q-4\n",
    "l=[\"0\",\"1\"]\n",
    "n=int(input(\"Enter the number :\"))\n",
    "print(l[n%2])"
   ]
  },
  {
   "cell_type": "code",
   "execution_count": 19,
   "metadata": {},
   "outputs": [
    {
     "name": "stdout",
     "output_type": "stream",
     "text": [
      "[1, 1, 2, 2, 3, 4, 4, 6]\n"
     ]
    }
   ],
   "source": [
    "# Q-5\n",
    "l1=[4,2,1,4]\n",
    "l2=[1,6,3,2]\n",
    "for i in l2:\n",
    "    l1.append(i)\n",
    "l1.sort()\n",
    "print(l1)"
   ]
  },
  {
   "cell_type": "code",
   "execution_count": 1,
   "metadata": {},
   "outputs": [
    {
     "name": "stdout",
     "output_type": "stream",
     "text": [
      "Enter the no of students :3\n",
      "Enter the name and marks of student seperated by ':' Berlin:70\n",
      "Enter the name and marks of student seperated by ':' Olso:50\n",
      "Enter the name and marks of student seperated by ':' Nairobi:90\n",
      "original dictionary is : {'Berlin': 70, 'Olso': 50, 'Nairobi': 90}\n",
      "sorted dictionary is : {'Olso': 50, 'Berlin': 70, 'Nairobi': 90}\n"
     ]
    }
   ],
   "source": [
    "# Q-6\n",
    "dic={}\n",
    "n=int(input(\"Enter the no of students :\"))\n",
    "for i in range(n):\n",
    "    data=input(\"Enter the name and marks of student seperated by ':' \")\n",
    "    temp=data.split(':')\n",
    "    dic[temp[0]]=int(temp[1])\n",
    "print(\"original dictionary is :\",dic)\n",
    "\n",
    "lst=list()\n",
    "for k,v in dic.items():\n",
    "    lst.append((v,k))\n",
    "lst=sorted(lst)\n",
    "\n",
    "dic.clear()\n",
    "\n",
    "for v,k in lst:\n",
    "    dic[k]=v\n",
    "print(\"sorted dictionary is :\",dic)\n",
    "    "
   ]
  },
  {
   "cell_type": "code",
   "execution_count": null,
   "metadata": {},
   "outputs": [],
   "source": []
  }
 ],
 "metadata": {
  "kernelspec": {
   "display_name": "Python 3",
   "language": "python",
   "name": "python3"
  },
  "language_info": {
   "codemirror_mode": {
    "name": "ipython",
    "version": 3
   },
   "file_extension": ".py",
   "mimetype": "text/x-python",
   "name": "python",
   "nbconvert_exporter": "python",
   "pygments_lexer": "ipython3",
   "version": "3.7.6"
  }
 },
 "nbformat": 4,
 "nbformat_minor": 4
}
